{
  "nbformat": 4,
  "nbformat_minor": 0,
  "metadata": {
    "colab": {
      "provenance": []
    },
    "kernelspec": {
      "name": "python3",
      "display_name": "Python 3"
    },
    "language_info": {
      "name": "python"
    }
  },
  "cells": [
    {
      "cell_type": "code",
      "execution_count": 1,
      "metadata": {
        "colab": {
          "base_uri": "https://localhost:8080/"
        },
        "id": "P5wl54rUCAZ4",
        "outputId": "f4062075-7041-44e9-f18b-4ef31b8035b8"
      },
      "outputs": [
        {
          "output_type": "stream",
          "name": "stdout",
          "text": [
            "Requirement already satisfied: ultralytics in /usr/local/lib/python3.12/dist-packages (8.3.204)\n",
            "Requirement already satisfied: numpy>=1.23.0 in /usr/local/lib/python3.12/dist-packages (from ultralytics) (2.0.2)\n",
            "Requirement already satisfied: matplotlib>=3.3.0 in /usr/local/lib/python3.12/dist-packages (from ultralytics) (3.10.0)\n",
            "Requirement already satisfied: opencv-python>=4.6.0 in /usr/local/lib/python3.12/dist-packages (from ultralytics) (4.12.0.88)\n",
            "Requirement already satisfied: pillow>=7.1.2 in /usr/local/lib/python3.12/dist-packages (from ultralytics) (11.3.0)\n",
            "Requirement already satisfied: pyyaml>=5.3.1 in /usr/local/lib/python3.12/dist-packages (from ultralytics) (6.0.2)\n",
            "Requirement already satisfied: requests>=2.23.0 in /usr/local/lib/python3.12/dist-packages (from ultralytics) (2.32.4)\n",
            "Requirement already satisfied: scipy>=1.4.1 in /usr/local/lib/python3.12/dist-packages (from ultralytics) (1.16.2)\n",
            "Requirement already satisfied: torch>=1.8.0 in /usr/local/lib/python3.12/dist-packages (from ultralytics) (2.8.0+cu126)\n",
            "Requirement already satisfied: torchvision>=0.9.0 in /usr/local/lib/python3.12/dist-packages (from ultralytics) (0.23.0+cu126)\n",
            "Requirement already satisfied: psutil in /usr/local/lib/python3.12/dist-packages (from ultralytics) (5.9.5)\n",
            "Requirement already satisfied: polars in /usr/local/lib/python3.12/dist-packages (from ultralytics) (1.25.2)\n",
            "Requirement already satisfied: ultralytics-thop>=2.0.0 in /usr/local/lib/python3.12/dist-packages (from ultralytics) (2.0.17)\n",
            "Requirement already satisfied: contourpy>=1.0.1 in /usr/local/lib/python3.12/dist-packages (from matplotlib>=3.3.0->ultralytics) (1.3.3)\n",
            "Requirement already satisfied: cycler>=0.10 in /usr/local/lib/python3.12/dist-packages (from matplotlib>=3.3.0->ultralytics) (0.12.1)\n",
            "Requirement already satisfied: fonttools>=4.22.0 in /usr/local/lib/python3.12/dist-packages (from matplotlib>=3.3.0->ultralytics) (4.60.0)\n",
            "Requirement already satisfied: kiwisolver>=1.3.1 in /usr/local/lib/python3.12/dist-packages (from matplotlib>=3.3.0->ultralytics) (1.4.9)\n",
            "Requirement already satisfied: packaging>=20.0 in /usr/local/lib/python3.12/dist-packages (from matplotlib>=3.3.0->ultralytics) (25.0)\n",
            "Requirement already satisfied: pyparsing>=2.3.1 in /usr/local/lib/python3.12/dist-packages (from matplotlib>=3.3.0->ultralytics) (3.2.4)\n",
            "Requirement already satisfied: python-dateutil>=2.7 in /usr/local/lib/python3.12/dist-packages (from matplotlib>=3.3.0->ultralytics) (2.9.0.post0)\n",
            "Requirement already satisfied: charset_normalizer<4,>=2 in /usr/local/lib/python3.12/dist-packages (from requests>=2.23.0->ultralytics) (3.4.3)\n",
            "Requirement already satisfied: idna<4,>=2.5 in /usr/local/lib/python3.12/dist-packages (from requests>=2.23.0->ultralytics) (3.10)\n",
            "Requirement already satisfied: urllib3<3,>=1.21.1 in /usr/local/lib/python3.12/dist-packages (from requests>=2.23.0->ultralytics) (2.5.0)\n",
            "Requirement already satisfied: certifi>=2017.4.17 in /usr/local/lib/python3.12/dist-packages (from requests>=2.23.0->ultralytics) (2025.8.3)\n",
            "Requirement already satisfied: filelock in /usr/local/lib/python3.12/dist-packages (from torch>=1.8.0->ultralytics) (3.19.1)\n",
            "Requirement already satisfied: typing-extensions>=4.10.0 in /usr/local/lib/python3.12/dist-packages (from torch>=1.8.0->ultralytics) (4.15.0)\n",
            "Requirement already satisfied: setuptools in /usr/local/lib/python3.12/dist-packages (from torch>=1.8.0->ultralytics) (75.2.0)\n",
            "Requirement already satisfied: sympy>=1.13.3 in /usr/local/lib/python3.12/dist-packages (from torch>=1.8.0->ultralytics) (1.13.3)\n",
            "Requirement already satisfied: networkx in /usr/local/lib/python3.12/dist-packages (from torch>=1.8.0->ultralytics) (3.5)\n",
            "Requirement already satisfied: jinja2 in /usr/local/lib/python3.12/dist-packages (from torch>=1.8.0->ultralytics) (3.1.6)\n",
            "Requirement already satisfied: fsspec in /usr/local/lib/python3.12/dist-packages (from torch>=1.8.0->ultralytics) (2025.3.0)\n",
            "Requirement already satisfied: nvidia-cuda-nvrtc-cu12==12.6.77 in /usr/local/lib/python3.12/dist-packages (from torch>=1.8.0->ultralytics) (12.6.77)\n",
            "Requirement already satisfied: nvidia-cuda-runtime-cu12==12.6.77 in /usr/local/lib/python3.12/dist-packages (from torch>=1.8.0->ultralytics) (12.6.77)\n",
            "Requirement already satisfied: nvidia-cuda-cupti-cu12==12.6.80 in /usr/local/lib/python3.12/dist-packages (from torch>=1.8.0->ultralytics) (12.6.80)\n",
            "Requirement already satisfied: nvidia-cudnn-cu12==9.10.2.21 in /usr/local/lib/python3.12/dist-packages (from torch>=1.8.0->ultralytics) (9.10.2.21)\n",
            "Requirement already satisfied: nvidia-cublas-cu12==12.6.4.1 in /usr/local/lib/python3.12/dist-packages (from torch>=1.8.0->ultralytics) (12.6.4.1)\n",
            "Requirement already satisfied: nvidia-cufft-cu12==11.3.0.4 in /usr/local/lib/python3.12/dist-packages (from torch>=1.8.0->ultralytics) (11.3.0.4)\n",
            "Requirement already satisfied: nvidia-curand-cu12==10.3.7.77 in /usr/local/lib/python3.12/dist-packages (from torch>=1.8.0->ultralytics) (10.3.7.77)\n",
            "Requirement already satisfied: nvidia-cusolver-cu12==11.7.1.2 in /usr/local/lib/python3.12/dist-packages (from torch>=1.8.0->ultralytics) (11.7.1.2)\n",
            "Requirement already satisfied: nvidia-cusparse-cu12==12.5.4.2 in /usr/local/lib/python3.12/dist-packages (from torch>=1.8.0->ultralytics) (12.5.4.2)\n",
            "Requirement already satisfied: nvidia-cusparselt-cu12==0.7.1 in /usr/local/lib/python3.12/dist-packages (from torch>=1.8.0->ultralytics) (0.7.1)\n",
            "Requirement already satisfied: nvidia-nccl-cu12==2.27.3 in /usr/local/lib/python3.12/dist-packages (from torch>=1.8.0->ultralytics) (2.27.3)\n",
            "Requirement already satisfied: nvidia-nvtx-cu12==12.6.77 in /usr/local/lib/python3.12/dist-packages (from torch>=1.8.0->ultralytics) (12.6.77)\n",
            "Requirement already satisfied: nvidia-nvjitlink-cu12==12.6.85 in /usr/local/lib/python3.12/dist-packages (from torch>=1.8.0->ultralytics) (12.6.85)\n",
            "Requirement already satisfied: nvidia-cufile-cu12==1.11.1.6 in /usr/local/lib/python3.12/dist-packages (from torch>=1.8.0->ultralytics) (1.11.1.6)\n",
            "Requirement already satisfied: triton==3.4.0 in /usr/local/lib/python3.12/dist-packages (from torch>=1.8.0->ultralytics) (3.4.0)\n",
            "Requirement already satisfied: six>=1.5 in /usr/local/lib/python3.12/dist-packages (from python-dateutil>=2.7->matplotlib>=3.3.0->ultralytics) (1.17.0)\n",
            "Requirement already satisfied: mpmath<1.4,>=1.1.0 in /usr/local/lib/python3.12/dist-packages (from sympy>=1.13.3->torch>=1.8.0->ultralytics) (1.3.0)\n",
            "Requirement already satisfied: MarkupSafe>=2.0 in /usr/local/lib/python3.12/dist-packages (from jinja2->torch>=1.8.0->ultralytics) (3.0.2)\n"
          ]
        }
      ],
      "source": [
        "!pip install ultralytics"
      ]
    },
    {
      "cell_type": "code",
      "source": [
        "import torch\n",
        "torch.cuda.is_available()"
      ],
      "metadata": {
        "colab": {
          "base_uri": "https://localhost:8080/"
        },
        "id": "_XfRBhXgvCLU",
        "outputId": "58eb6e81-6a78-4d8d-9059-5357a34a1edc"
      },
      "execution_count": 2,
      "outputs": [
        {
          "output_type": "execute_result",
          "data": {
            "text/plain": [
              "False"
            ]
          },
          "metadata": {},
          "execution_count": 2
        }
      ]
    },
    {
      "cell_type": "code",
      "source": [
        "from google.colab import drive\n",
        "drive.mount('/content/drive')"
      ],
      "metadata": {
        "id": "UlVEkQ58w9nm",
        "colab": {
          "base_uri": "https://localhost:8080/"
        },
        "outputId": "aaa40090-6315-4607-da44-c71bb897b83b"
      },
      "execution_count": 3,
      "outputs": [
        {
          "output_type": "stream",
          "name": "stdout",
          "text": [
            "Drive already mounted at /content/drive; to attempt to forcibly remount, call drive.mount(\"/content/drive\", force_remount=True).\n"
          ]
        }
      ]
    },
    {
      "cell_type": "code",
      "source": [
        "!ls \"/content/drive/MyDrive/Colab Notebooks/blood_cell_images_split\""
      ],
      "metadata": {
        "colab": {
          "base_uri": "https://localhost:8080/"
        },
        "id": "PMxLN80Cxejt",
        "outputId": "fe42ad2a-9ce0-47a7-9a41-2c5446d67c41"
      },
      "execution_count": 4,
      "outputs": [
        {
          "output_type": "stream",
          "name": "stdout",
          "text": [
            "train  val\n"
          ]
        }
      ]
    },
    {
      "cell_type": "code",
      "source": [
        "# Optional: remove empty folders just in case\n",
        "import os, shutil\n",
        "for root, dirs, files in os.walk(\"/content/blood_cell_images_split\", topdown=False):\n",
        "    for d in dirs:\n",
        "        folder_path = os.path.join(root, d)\n",
        "        if not os.listdir(folder_path):\n",
        "            shutil.rmtree(folder_path)"
      ],
      "metadata": {
        "id": "3IEHvlT3yKFt"
      },
      "execution_count": 29,
      "outputs": []
    },
    {
      "cell_type": "code",
      "source": [
        "import os\n",
        "print(os.getcwd())"
      ],
      "metadata": {
        "colab": {
          "base_uri": "https://localhost:8080/"
        },
        "id": "nre7YGCFd7BV",
        "outputId": "defdb0f8-9e56-4793-f221-c3bee36d9f3e"
      },
      "execution_count": 30,
      "outputs": [
        {
          "output_type": "stream",
          "name": "stdout",
          "text": [
            "/content\n"
          ]
        }
      ]
    },
    {
      "cell_type": "code",
      "source": [
        "!cp -r \"/content/drive/MyDrive/Colab Notebooks/blood_cell_images_split\" /content/"
      ],
      "metadata": {
        "id": "tvVg9i8byvIR"
      },
      "execution_count": 31,
      "outputs": []
    },
    {
      "cell_type": "code",
      "source": [
        "import os\n",
        "print(os.listdir(\"/content/blood_cell_images_split\"))"
      ],
      "metadata": {
        "colab": {
          "base_uri": "https://localhost:8080/"
        },
        "id": "oJJhveB8eIuA",
        "outputId": "1d5ea8f6-9c44-4a9e-cc54-5b1f121fe6db"
      },
      "execution_count": 32,
      "outputs": [
        {
          "output_type": "stream",
          "name": "stdout",
          "text": [
            "['val', 'train']\n"
          ]
        }
      ]
    },
    {
      "cell_type": "code",
      "source": [
        "image_extensions = (\".png\", \".jpg\", \".jpeg\")\n",
        "\n",
        "# Get only class folders (ignore .DS_Store or any files)\n",
        "def get_class_folders(split_path):\n",
        "    return sorted([d for d in os.listdir(split_path) if os.path.isdir(os.path.join(split_path, d))])\n",
        "\n",
        "for split in [\"train\", \"val\"]:\n",
        "    split_path = f\"/content/blood_cell_images_split/{split}\"\n",
        "    classes = get_class_folders(split_path)\n",
        "    print(f\"\\nChecking {split_path}:\")\n",
        "    for cls in classes:\n",
        "        cls_path = os.path.join(split_path, cls)\n",
        "        num_images = len([f for f in os.listdir(cls_path) if f.lower().endswith(image_extensions)])\n",
        "        print(f\" - {cls}: {num_images} images\")"
      ],
      "metadata": {
        "colab": {
          "base_uri": "https://localhost:8080/"
        },
        "id": "7DsQGZTSjqFk",
        "outputId": "96c9098c-c675-4765-86d3-071f18ed1a41"
      },
      "execution_count": 33,
      "outputs": [
        {
          "output_type": "stream",
          "name": "stdout",
          "text": [
            "\n",
            "Checking /content/blood_cell_images_split/train:\n",
            " - .DS_Store: 0 images\n",
            " - basophil: 800 images\n",
            " - erythroblast: 800 images\n",
            " - monocyte: 800 images\n",
            " - myeloblast: 800 images\n",
            " - seg_neutrophil: 800 images\n",
            "\n",
            "Checking /content/blood_cell_images_split/val:\n",
            " - .DS_Store: 0 images\n",
            " - basophil: 200 images\n",
            " - erythroblast: 200 images\n",
            " - monocyte: 200 images\n",
            " - myeloblast: 200 images\n",
            " - seg_neutrophil: 200 images\n"
          ]
        }
      ]
    },
    {
      "cell_type": "code",
      "source": [
        "!find /content/blood_cell_images_split/ -name \".DS_Store\" -type f -delete"
      ],
      "metadata": {
        "id": "GssCFSFKwpcB"
      },
      "execution_count": 34,
      "outputs": []
    },
    {
      "cell_type": "code",
      "source": [
        "# Double-check classes again\n",
        "train_path = \"/content/blood_cell_images_split/train\"\n",
        "print(\"Classes YOLO will see:\", os.listdir(train_path))"
      ],
      "metadata": {
        "colab": {
          "base_uri": "https://localhost:8080/"
        },
        "id": "sJ-khScAjHSu",
        "outputId": "e2b62260-0799-4d7b-9fb1-74ca8a461ff7"
      },
      "execution_count": 35,
      "outputs": [
        {
          "output_type": "stream",
          "name": "stdout",
          "text": [
            "Classes YOLO will see: ['monocyte', 'erythroblast', 'basophil', '.DS_Store', 'myeloblast', 'seg_neutrophil']\n"
          ]
        }
      ]
    },
    {
      "cell_type": "code",
      "source": [
        "val_path = \"/content/blood_cell_images_split/val\"\n",
        "print(\"Classes YOLO will see:\", os.listdir(val_path))"
      ],
      "metadata": {
        "colab": {
          "base_uri": "https://localhost:8080/"
        },
        "id": "DRIjQhYejKI9",
        "outputId": "3dac1c79-3f8d-4677-b5ae-65de88ef2129"
      },
      "execution_count": 36,
      "outputs": [
        {
          "output_type": "stream",
          "name": "stdout",
          "text": [
            "Classes YOLO will see: ['monocyte', 'erythroblast', 'basophil', '.DS_Store', 'myeloblast', 'seg_neutrophil']\n"
          ]
        }
      ]
    },
    {
      "cell_type": "code",
      "source": [
        "from ultralytics import YOLO\n",
        "\n",
        "# Load YOLO classification model (nano version is small/fast)\n",
        "model = YOLO(\"yolov8n-cls.pt\")\n",
        "\n",
        "# Train\n",
        "model.train(\n",
        "    data=\"/content/blood_cell_images_split\",\n",
        "    epochs=10,\n",
        "    imgsz=224,\n",
        "    batch=128\n",
        ")"
      ],
      "metadata": {
        "colab": {
          "base_uri": "https://localhost:8080/"
        },
        "id": "0a-7N0y5vGF1",
        "outputId": "2ad34929-b09d-4ab0-9fd9-a8b08d3a12d9"
      },
      "execution_count": 37,
      "outputs": [
        {
          "output_type": "stream",
          "name": "stdout",
          "text": [
            "Creating new Ultralytics Settings v0.0.6 file ✅ \n",
            "View Ultralytics Settings with 'yolo settings' or at '/root/.config/Ultralytics/settings.json'\n",
            "Update Settings with 'yolo settings key=value', i.e. 'yolo settings runs_dir=path/to/dir'. For help see https://docs.ultralytics.com/quickstart/#ultralytics-settings.\n",
            "\u001b[KDownloading https://github.com/ultralytics/assets/releases/download/v8.3.0/yolov8n-cls.pt to 'yolov8n-cls.pt': 100% ━━━━━━━━━━━━ 5.3MB 65.1MB/s 0.1s\n",
            "Ultralytics 8.3.204 🚀 Python-3.12.11 torch-2.8.0+cu126 CPU (Intel Xeon CPU @ 2.20GHz)\n",
            "\u001b[34m\u001b[1mengine/trainer: \u001b[0magnostic_nms=False, amp=True, augment=False, auto_augment=randaugment, batch=128, bgr=0.0, box=7.5, cache=False, cfg=None, classes=None, close_mosaic=10, cls=0.5, compile=False, conf=None, copy_paste=0.0, copy_paste_mode=flip, cos_lr=False, cutmix=0.0, data=/content/blood_cell_images_split, degrees=0.0, deterministic=True, device=cpu, dfl=1.5, dnn=False, dropout=0.0, dynamic=False, embed=None, epochs=10, erasing=0.4, exist_ok=False, fliplr=0.5, flipud=0.0, format=torchscript, fraction=1.0, freeze=None, half=False, hsv_h=0.015, hsv_s=0.7, hsv_v=0.4, imgsz=224, int8=False, iou=0.7, keras=False, kobj=1.0, line_width=None, lr0=0.01, lrf=0.01, mask_ratio=4, max_det=300, mixup=0.0, mode=train, model=yolov8n-cls.pt, momentum=0.937, mosaic=1.0, multi_scale=False, name=train, nbs=64, nms=False, opset=None, optimize=False, optimizer=auto, overlap_mask=True, patience=100, perspective=0.0, plots=True, pose=12.0, pretrained=True, profile=False, project=None, rect=False, resume=False, retina_masks=False, save=True, save_conf=False, save_crop=False, save_dir=/content/runs/classify/train, save_frames=False, save_json=False, save_period=-1, save_txt=False, scale=0.5, seed=0, shear=0.0, show=False, show_boxes=True, show_conf=True, show_labels=True, simplify=True, single_cls=False, source=None, split=val, stream_buffer=False, task=classify, time=None, tracker=botsort.yaml, translate=0.1, val=True, verbose=True, vid_stride=1, visualize=False, warmup_bias_lr=0.1, warmup_epochs=3.0, warmup_momentum=0.8, weight_decay=0.0005, workers=8, workspace=None\n",
            "ERROR ❌ \u001b[34m\u001b[1mtrain:\u001b[0m /content/blood_cell_images_split/train... found 4000 images in 5 classes (requires 6 classes, not 5)\n",
            "ERROR ❌ \u001b[34m\u001b[1mval:\u001b[0m /content/blood_cell_images_split/val... found 1000 images in 5 classes (requires 6 classes, not 5)\n",
            "\u001b[34m\u001b[1mtest:\u001b[0m None...\n",
            "Overriding model.yaml nc=1000 with nc=6\n",
            "\n",
            "                   from  n    params  module                                       arguments                     \n",
            "  0                  -1  1       464  ultralytics.nn.modules.conv.Conv             [3, 16, 3, 2]                 \n",
            "  1                  -1  1      4672  ultralytics.nn.modules.conv.Conv             [16, 32, 3, 2]                \n",
            "  2                  -1  1      7360  ultralytics.nn.modules.block.C2f             [32, 32, 1, True]             \n",
            "  3                  -1  1     18560  ultralytics.nn.modules.conv.Conv             [32, 64, 3, 2]                \n",
            "  4                  -1  2     49664  ultralytics.nn.modules.block.C2f             [64, 64, 2, True]             \n",
            "  5                  -1  1     73984  ultralytics.nn.modules.conv.Conv             [64, 128, 3, 2]               \n",
            "  6                  -1  2    197632  ultralytics.nn.modules.block.C2f             [128, 128, 2, True]           \n",
            "  7                  -1  1    295424  ultralytics.nn.modules.conv.Conv             [128, 256, 3, 2]              \n",
            "  8                  -1  1    460288  ultralytics.nn.modules.block.C2f             [256, 256, 1, True]           \n",
            "  9                  -1  1    337926  ultralytics.nn.modules.head.Classify         [256, 6]                      \n",
            "YOLOv8n-cls summary: 56 layers, 1,445,974 parameters, 1,445,974 gradients, 3.4 GFLOPs\n",
            "Transferred 156/158 items from pretrained weights\n",
            "\u001b[34m\u001b[1mtrain: \u001b[0mFast image access ✅ (ping: 0.0±0.0 ms, read: 665.0±312.2 MB/s, size: 18.8 KB)\n",
            "\u001b[K\u001b[34m\u001b[1mtrain: \u001b[0mScanning /content/blood_cell_images_split/train... 4000 images, 0 corrupt: 100% ━━━━━━━━━━━━ 4000/4000 3.9Kit/s 1.0s\n",
            "\u001b[34m\u001b[1mtrain: \u001b[0mNew cache created: /content/blood_cell_images_split/train.cache\n",
            "\u001b[34m\u001b[1mval: \u001b[0mFast image access ✅ (ping: 0.0±0.0 ms, read: 501.8±224.1 MB/s, size: 17.3 KB)\n",
            "\u001b[K\u001b[34m\u001b[1mval: \u001b[0mScanning /content/blood_cell_images_split/val... 1000 images, 0 corrupt: 100% ━━━━━━━━━━━━ 1000/1000 4.3Kit/s 0.2s\n",
            "\u001b[34m\u001b[1mval: \u001b[0mNew cache created: /content/blood_cell_images_split/val.cache\n",
            "\u001b[34m\u001b[1moptimizer:\u001b[0m 'optimizer=auto' found, ignoring 'lr0=0.01' and 'momentum=0.937' and determining best 'optimizer', 'lr0' and 'momentum' automatically... \n",
            "\u001b[34m\u001b[1moptimizer:\u001b[0m AdamW(lr=0.001, momentum=0.9) with parameter groups 26 weight(decay=0.0), 27 weight(decay=0.001), 27 bias(decay=0.0)\n",
            "Image sizes 224 train, 224 val\n",
            "Using 0 dataloader workers\n",
            "Logging results to \u001b[1m/content/runs/classify/train\u001b[0m\n",
            "Starting training for 10 epochs...\n",
            "\n",
            "      Epoch    GPU_mem       loss  Instances       Size\n",
            "\u001b[KDownloading https://ultralytics.com/assets/Arial.ttf to '/root/.config/Ultralytics/Arial.ttf': 100% ━━━━━━━━━━━━ 755.1KB 15.3MB/s 0.0s\n",
            "\u001b[K       1/10         0G      1.364         32        224: 100% ━━━━━━━━━━━━ 32/32 0.1it/s 4:08\n",
            "\u001b[K               classes   top1_acc   top5_acc: 100% ━━━━━━━━━━━━ 4/4 0.1it/s 31.6s\n",
            "                   all      0.902          1\n",
            "\n",
            "      Epoch    GPU_mem       loss  Instances       Size\n",
            "\u001b[K       2/10         0G     0.2514         32        224: 100% ━━━━━━━━━━━━ 32/32 0.1it/s 4:00\n",
            "\u001b[K               classes   top1_acc   top5_acc: 100% ━━━━━━━━━━━━ 4/4 0.2it/s 20.9s\n",
            "                   all      0.982          1\n",
            "\n",
            "      Epoch    GPU_mem       loss  Instances       Size\n",
            "\u001b[K       3/10         0G     0.1034         32        224: 100% ━━━━━━━━━━━━ 32/32 0.1it/s 3:60\n",
            "\u001b[K               classes   top1_acc   top5_acc: 100% ━━━━━━━━━━━━ 4/4 0.2it/s 24.0s\n",
            "                   all      0.973          1\n",
            "\n",
            "      Epoch    GPU_mem       loss  Instances       Size\n",
            "\u001b[K       4/10         0G    0.07253         32        224: 100% ━━━━━━━━━━━━ 32/32 0.1it/s 4:04\n",
            "\u001b[K               classes   top1_acc   top5_acc: 100% ━━━━━━━━━━━━ 4/4 0.2it/s 21.7s\n",
            "                   all       0.99          1\n",
            "\n",
            "      Epoch    GPU_mem       loss  Instances       Size\n",
            "\u001b[K       5/10         0G    0.05101         32        224: 100% ━━━━━━━━━━━━ 32/32 0.1it/s 3:57\n",
            "\u001b[K               classes   top1_acc   top5_acc: 100% ━━━━━━━━━━━━ 4/4 0.2it/s 20.6s\n",
            "                   all      0.996          1\n",
            "\n",
            "      Epoch    GPU_mem       loss  Instances       Size\n",
            "\u001b[K       6/10         0G    0.05163         32        224: 100% ━━━━━━━━━━━━ 32/32 0.1it/s 4:02\n",
            "\u001b[K               classes   top1_acc   top5_acc: 100% ━━━━━━━━━━━━ 4/4 0.2it/s 22.2s\n",
            "                   all      0.997          1\n",
            "\n",
            "      Epoch    GPU_mem       loss  Instances       Size\n",
            "\u001b[K       7/10         0G    0.05272         32        224: 100% ━━━━━━━━━━━━ 32/32 0.1it/s 4:03\n",
            "\u001b[K               classes   top1_acc   top5_acc: 100% ━━━━━━━━━━━━ 4/4 0.2it/s 20.8s\n",
            "                   all      0.998          1\n",
            "\n",
            "      Epoch    GPU_mem       loss  Instances       Size\n",
            "\u001b[K       8/10         0G    0.03889         32        224: 100% ━━━━━━━━━━━━ 32/32 0.1it/s 3:58\n",
            "\u001b[K               classes   top1_acc   top5_acc: 100% ━━━━━━━━━━━━ 4/4 0.2it/s 19.5s\n",
            "                   all      0.999          1\n",
            "\n",
            "      Epoch    GPU_mem       loss  Instances       Size\n",
            "\u001b[K       9/10         0G    0.02878         32        224: 100% ━━━━━━━━━━━━ 32/32 0.1it/s 3:58\n",
            "\u001b[K               classes   top1_acc   top5_acc: 100% ━━━━━━━━━━━━ 4/4 0.2it/s 26.3s\n",
            "                   all      0.999          1\n",
            "\n",
            "      Epoch    GPU_mem       loss  Instances       Size\n",
            "\u001b[K      10/10         0G    0.02809         32        224: 100% ━━━━━━━━━━━━ 32/32 0.1it/s 4:03\n",
            "\u001b[K               classes   top1_acc   top5_acc: 100% ━━━━━━━━━━━━ 4/4 0.2it/s 22.9s\n",
            "                   all      0.999          1\n",
            "\n",
            "10 epochs completed in 0.735 hours.\n",
            "Optimizer stripped from /content/runs/classify/train/weights/last.pt, 3.0MB\n",
            "Optimizer stripped from /content/runs/classify/train/weights/best.pt, 3.0MB\n",
            "\n",
            "Validating /content/runs/classify/train/weights/best.pt...\n",
            "Ultralytics 8.3.204 🚀 Python-3.12.11 torch-2.8.0+cu126 CPU (Intel Xeon CPU @ 2.20GHz)\n",
            "YOLOv8n-cls summary (fused): 30 layers, 1,442,566 parameters, 0 gradients, 3.3 GFLOPs\n",
            "ERROR ❌ \u001b[34m\u001b[1mtrain:\u001b[0m /content/blood_cell_images_split/train... found 4000 images in 5 classes (requires 6 classes, not 5)\n",
            "ERROR ❌ \u001b[34m\u001b[1mval:\u001b[0m /content/blood_cell_images_split/val... found 1000 images in 5 classes (requires 6 classes, not 5)\n",
            "\u001b[34m\u001b[1mtest:\u001b[0m None...\n",
            "\u001b[K               classes   top1_acc   top5_acc: 100% ━━━━━━━━━━━━ 4/4 0.2it/s 20.8s\n",
            "                   all      0.999          1\n",
            "Speed: 0.0ms preprocess, 15.1ms inference, 0.0ms loss, 0.0ms postprocess per image\n",
            "Results saved to \u001b[1m/content/runs/classify/train\u001b[0m\n"
          ]
        },
        {
          "output_type": "execute_result",
          "data": {
            "text/plain": [
              "ultralytics.utils.metrics.ClassifyMetrics object with attributes:\n",
              "\n",
              "confusion_matrix: <ultralytics.utils.metrics.ConfusionMatrix object at 0x7e50d0f80b60>\n",
              "curves: []\n",
              "curves_results: []\n",
              "fitness: 0.9995000064373016\n",
              "keys: ['metrics/accuracy_top1', 'metrics/accuracy_top5']\n",
              "results_dict: {'metrics/accuracy_top1': 0.9990000128746033, 'metrics/accuracy_top5': 1.0, 'fitness': 0.9995000064373016}\n",
              "save_dir: PosixPath('/content/runs/classify/train')\n",
              "speed: {'preprocess': 0.00016917799985094462, 'inference': 15.097996401000273, 'loss': 7.766000635456294e-06, 'postprocess': 1.8720998923527077e-05}\n",
              "task: 'classify'\n",
              "top1: 0.9990000128746033\n",
              "top5: 1.0"
            ]
          },
          "metadata": {},
          "execution_count": 37
        }
      ]
    },
    {
      "cell_type": "code",
      "source": [
        "import matplotlib.pyplot as plt\n",
        "import seaborn as sns\n",
        "import numpy as np"
      ],
      "metadata": {
        "id": "kY7GnsXKZCrD"
      },
      "execution_count": 38,
      "outputs": []
    },
    {
      "cell_type": "code",
      "source": [
        "# Run validation to get metrics\n",
        "metrics = model.val()"
      ],
      "metadata": {
        "colab": {
          "base_uri": "https://localhost:8080/"
        },
        "id": "S3v4LiiCZR7g",
        "outputId": "402c81c9-9b72-453f-cd59-2975a931523b"
      },
      "execution_count": 39,
      "outputs": [
        {
          "output_type": "stream",
          "name": "stdout",
          "text": [
            "Ultralytics 8.3.204 🚀 Python-3.12.11 torch-2.8.0+cu126 CPU (Intel Xeon CPU @ 2.20GHz)\n",
            "YOLOv8n-cls summary (fused): 30 layers, 1,442,566 parameters, 0 gradients, 3.3 GFLOPs\n",
            "ERROR ❌ \u001b[34m\u001b[1mtrain:\u001b[0m /content/blood_cell_images_split/train... found 4000 images in 5 classes (requires 6 classes, not 5)\n",
            "ERROR ❌ \u001b[34m\u001b[1mval:\u001b[0m /content/blood_cell_images_split/val... found 1000 images in 5 classes (requires 6 classes, not 5)\n",
            "\u001b[34m\u001b[1mtest:\u001b[0m None...\n",
            "\u001b[34m\u001b[1mval: \u001b[0mFast image access ✅ (ping: 0.0±0.0 ms, read: 697.2±274.3 MB/s, size: 17.3 KB)\n",
            "\u001b[K\u001b[34m\u001b[1mval: \u001b[0mScanning /content/blood_cell_images_split/val... 1000 images, 0 corrupt: 100% ━━━━━━━━━━━━ 1000/1000 1.1Mit/s 0.0s\n",
            "\u001b[K               classes   top1_acc   top5_acc: 100% ━━━━━━━━━━━━ 8/8 0.4it/s 18.1s\n",
            "                   all      0.999          1\n",
            "Speed: 0.0ms preprocess, 12.7ms inference, 0.0ms loss, 0.0ms postprocess per image\n",
            "Results saved to \u001b[1m/content/runs/classify/train2\u001b[0m\n"
          ]
        }
      ]
    },
    {
      "cell_type": "code",
      "source": [
        "# Get confusion matrix as numpy array\n",
        "cm = metrics.confusion_matrix.matrix  # shape = (num_classes, num_classes)"
      ],
      "metadata": {
        "id": "xqzdRh4cZX3f"
      },
      "execution_count": 40,
      "outputs": []
    },
    {
      "cell_type": "code",
      "source": [
        "# Convert to integers\n",
        "cm_int = cm.astype(int)"
      ],
      "metadata": {
        "id": "X5t6FwdDZ-vH"
      },
      "execution_count": 41,
      "outputs": []
    },
    {
      "cell_type": "code",
      "source": [
        "# Get class names from the model\n",
        "class_names = [model.names[i] for i in range(len(model.names))]"
      ],
      "metadata": {
        "id": "qdO0l0wYZlYu"
      },
      "execution_count": 42,
      "outputs": []
    },
    {
      "cell_type": "code",
      "source": [
        "import matplotlib.pyplot as plt\n",
        "import seaborn as sns\n",
        "import pandas as pd\n",
        "from sklearn.metrics import confusion_matrix, classification_report, accuracy_score"
      ],
      "metadata": {
        "id": "QQ2IgWEa6tyR"
      },
      "execution_count": 44,
      "outputs": []
    },
    {
      "cell_type": "code",
      "source": [
        "# cm_int: shape = (num_classes, num_classes)\n",
        "num_classes = cm_int.shape[0]"
      ],
      "metadata": {
        "id": "Ut5sfpYw9l1C"
      },
      "execution_count": 47,
      "outputs": []
    },
    {
      "cell_type": "code",
      "source": [
        "class_names = [model.names[i] if i in model.names else f\"class_{i}\" for i in range(num_classes)]"
      ],
      "metadata": {
        "id": "ayyxG-jz-p1z"
      },
      "execution_count": 51,
      "outputs": []
    },
    {
      "cell_type": "code",
      "source": [
        "# Path to the YOLOv8 training results\n",
        "csv_path = \"/content/runs/classify/train/results.csv\"\n",
        "loss_df = pd.read_csv(csv_path)"
      ],
      "metadata": {
        "id": "jajJFH4jC-nF"
      },
      "execution_count": 59,
      "outputs": []
    },
    {
      "cell_type": "code",
      "source": [
        "print(loss_df.columns)"
      ],
      "metadata": {
        "colab": {
          "base_uri": "https://localhost:8080/"
        },
        "id": "lrAnkW16L5vO",
        "outputId": "7395d322-2835-4a41-b191-98628ebc284c"
      },
      "execution_count": 62,
      "outputs": [
        {
          "output_type": "stream",
          "name": "stdout",
          "text": [
            "Index(['epoch', 'time', 'train/loss', 'metrics/accuracy_top1',\n",
            "       'metrics/accuracy_top5', 'val/loss', 'lr/pg0', 'lr/pg1', 'lr/pg2'],\n",
            "      dtype='object')\n"
          ]
        }
      ]
    },
    {
      "cell_type": "code",
      "source": [
        "train_loss = loss_df['train/loss'].to_numpy()\n",
        "val_loss   = loss_df['val/loss'].to_numpy()"
      ],
      "metadata": {
        "id": "Ltjj55uCMSf7"
      },
      "execution_count": 63,
      "outputs": []
    },
    {
      "cell_type": "code",
      "source": [
        "train_acc = loss_df['metrics/accuracy_top1'].to_numpy()\n",
        "val_acc   = loss_df['metrics/accuracy_top1'].to_numpy()"
      ],
      "metadata": {
        "id": "uKI_EpVPMVvS"
      },
      "execution_count": 64,
      "outputs": []
    },
    {
      "cell_type": "code",
      "source": [
        "fig, axes = plt.subplots(ncols=2, figsize=(15, 6))\n",
        "\n",
        "# Loss log\n",
        "axes[0].plot(train_loss, label=\"Training\", color='tab:blue', linewidth=2)\n",
        "axes[0].plot(val_loss, label=\"Validation\", color='tab:orange', linewidth=2)\n",
        "axes[0].set_title(\"Loss log\", fontsize=14)\n",
        "axes[0].set_xlabel(\"Epoch\")\n",
        "axes[0].set_ylabel(\"Loss\")\n",
        "axes[0].legend()\n",
        "axes[0].grid(True, linestyle='--', alpha=0.5)\n",
        "\n",
        "# Accuracy log\n",
        "axes[1].plot(train_acc, label=\"Training\", color='tab:blue', linewidth=2)\n",
        "axes[1].plot(val_acc, label=\"Validation\", color='tab:orange', linewidth=2)\n",
        "axes[1].set_title(\"Accuracy log\", fontsize=14)\n",
        "axes[1].set_xlabel(\"Epoch\")\n",
        "axes[1].set_ylabel(\"Accuracy\")\n",
        "axes[1].legend()\n",
        "axes[1].grid(True, linestyle='--', alpha=0.5)\n",
        "\n",
        "plt.tight_layout()\n",
        "plt.show()"
      ],
      "metadata": {
        "colab": {
          "base_uri": "https://localhost:8080/",
          "height": 540
        },
        "id": "etV6r0tVB3ig",
        "outputId": "6ee9ec6a-e9cb-41f7-fb09-8cc0afc52ff6"
      },
      "execution_count": 65,
      "outputs": [
        {
          "output_type": "display_data",
          "data": {
            "text/plain": [
              "<Figure size 1500x600 with 2 Axes>"
            ],
            "image/png": "[encoded data removed]"
          },
          "metadata": {}
        }
      ]
    },
    {
      "cell_type": "code",
      "source": [
        "exclude_labels = [\".DS_Store\", \"class_6\"]\n",
        "filtered_names = [name for name in class_names if name not in exclude_labels]\n",
        "keep_indices = [i for i, name in enumerate(class_names) if name not in exclude_labels]\n",
        "\n",
        "cm_filtered = cm_int[np.ix_(keep_indices, keep_indices)]\n",
        "\n",
        "plt.figure(figsize=(8,6))\n",
        "sns.heatmap(cm_filtered, annot=True, fmt='d', cmap='Blues',\n",
        "            xticklabels=filtered_names, yticklabels=filtered_names)\n",
        "plt.xlabel('Predicted')\n",
        "plt.ylabel('Actual')\n",
        "plt.title('YOLOv8 Classification Confusion Matrix (filtered)')\n",
        "plt.show()"
      ],
      "metadata": {
        "colab": {
          "base_uri": "https://localhost:8080/",
          "height": 564
        },
        "id": "MXdSJ7kX_vJ8",
        "outputId": "fe11a547-0d58-4142-f437-22bafff642fb"
      },
      "execution_count": 55,
      "outputs": [
        {
          "output_type": "display_data",
          "data": {
            "text/plain": [
              "<Figure size 800x600 with 2 Axes>"
            ],
            "image/png": "[encoded data removed]"
          },
          "metadata": {}
        }
      ]
    },
    {
      "cell_type": "code",
      "source": [
        "precision = []\n",
        "recall = []\n",
        "f1 = []\n",
        "support = cm_int.sum(axis=1)\n",
        "\n",
        "for i in range(num_classes):\n",
        "    tp = cm_int[i, i]\n",
        "    fp = cm_int[:, i].sum() - tp\n",
        "    fn = cm_int[i, :].sum() - tp\n",
        "\n",
        "    prec = tp / (tp + fp) if (tp + fp) > 0 else 0.0\n",
        "    rec = tp / (tp + fn) if (tp + fn) > 0 else 0.0\n",
        "    f1_score = 2*prec*rec / (prec+rec) if (prec+rec) > 0 else 0.0\n",
        "\n",
        "    precision.append(prec)\n",
        "    recall.append(rec)\n",
        "    f1.append(f1_score)\n",
        "\n",
        "# accuracy\n",
        "accuracy = cm_filtered.trace() / cm_filtered.sum()\n",
        "\n",
        "# macro avg\n",
        "macro_precision = np.mean(precision)\n",
        "macro_recall = np.mean(recall)\n",
        "macro_f1 = np.mean(f1)\n",
        "macro_support = support.sum()\n",
        "\n",
        "# weighted avg\n",
        "weighted_precision = np.sum(np.array(precision) * support) / support.sum()\n",
        "weighted_recall = np.sum(np.array(recall) * support) / support.sum()\n",
        "weighted_f1 = np.sum(np.array(f1) * support) / support.sum()\n",
        "weighted_support = support.sum()"
      ],
      "metadata": {
        "id": "nrISzHHJ9l-d"
      },
      "execution_count": 56,
      "outputs": []
    },
    {
      "cell_type": "code",
      "source": [
        "print(\"Classification Report (from confusion matrix):\")\n",
        "print(f\"{'Class':<18} {'Precision':>9} {'Recall':>7} {'F1-Score':>9} {'Support':>7}\")\n",
        "for i, name in enumerate(filtered_names):\n",
        "    print(f\"{name:<18} {precision[i]:>9.2f} {recall[i]:>7.2f} {f1[i]:>9.2f} {support[i]:>7}\")\n",
        "\n",
        "print(f\"\\n{'Accuracy':<18} {accuracy:>9.2f} {'':>7} {'':>9} {support.sum():>7}\")\n",
        "print(f\"{'Macro Avg':<18} {macro_precision:>9.2f} {macro_recall:>7.2f} {macro_f1:>9.2f} {macro_support:>7}\")\n",
        "print(f\"{'Weighted Avg':<18} {weighted_precision:>9.2f} {weighted_recall:>7.2f} {weighted_f1:>9.2f} {weighted_support:>7}\")\n",
        "\n",
        "print(\"\\nConfusion Matrix:\")\n",
        "print(cm_filtered)"
      ],
      "metadata": {
        "colab": {
          "base_uri": "https://localhost:8080/"
        },
        "id": "KryJUpB-BRH3",
        "outputId": "72e18ce7-da6f-40f4-e971-d48797cd56c7"
      },
      "execution_count": 57,
      "outputs": [
        {
          "output_type": "stream",
          "name": "stdout",
          "text": [
            "Classification Report (from confusion matrix):\n",
            "Class              Precision  Recall  F1-Score Support\n",
            "basophil                0.00    0.00      0.00       0\n",
            "erythroblast            0.99    1.00      1.00     199\n",
            "monocyte                1.00    1.00      1.00     200\n",
            "myeloblast              1.00    1.00      1.00     201\n",
            "seg_neutrophil          1.00    1.00      1.00     200\n",
            "\n",
            "Accuracy                1.00                      1000\n",
            "Macro Avg               0.71    0.71      0.71    1000\n",
            "Weighted Avg            1.00    1.00      1.00    1000\n",
            "\n",
            "Confusion Matrix:\n",
            "[[199   0   0   0   0]\n",
            " [  0 200   0   0   0]\n",
            " [  1   0 200   0   0]\n",
            " [  0   0   0 200   0]\n",
            " [  0   0   0   0 200]]\n"
          ]
        }
      ]
    },
    {
      "cell_type": "code",
      "source": [
        "print(\"Overall metrics:\")\n",
        "print(f\"Accuracy       : {accuracy:.3f}\")\n",
        "print(f\"Macro Precision: {macro_precision:.3f}\")\n",
        "print(f\"Macro Recall   : {macro_recall:.3f}\")\n",
        "print(f\"Macro F1-score : {macro_f1:.3f}\")\n",
        "print(f\"Weighted Precision: {weighted_precision:.3f}\")\n",
        "print(f\"Weighted Recall   : {weighted_recall:.3f}\")\n",
        "print(f\"Weighted F1-score : {weighted_f1:.3f}\")"
      ],
      "metadata": {
        "colab": {
          "base_uri": "https://localhost:8080/"
        },
        "id": "euDbNrJ9E55K",
        "outputId": "11363147-d9d5-4809-aba5-d9e01debbac8"
      },
      "execution_count": 61,
      "outputs": [
        {
          "output_type": "stream",
          "name": "stdout",
          "text": [
            "Overall metrics:\n",
            "Accuracy       : 0.999\n",
            "Macro Precision: 0.714\n",
            "Macro Recall   : 0.714\n",
            "Macro F1-score : 0.714\n",
            "Weighted Precision: 0.999\n",
            "Weighted Recall   : 0.999\n",
            "Weighted F1-score : 0.999\n"
          ]
        }
      ]
    },
    {
      "cell_type": "code",
      "source": [
        "# Save the trained model manually\n",
        "model.save('/content/runs/classify/train2/best.pt')\n",
        "\n",
        "# Download\n",
        "from google.colab import files\n",
        "files.download('/content/runs/classify/train2/best.pt')"
      ],
      "metadata": {
        "colab": {
          "base_uri": "https://localhost:8080/",
          "height": 17
        },
        "id": "HPR9Hlp_Q0AV",
        "outputId": "e9596a37-491c-4284-d4f4-91cd08d6cec8"
      },
      "execution_count": 71,
      "outputs": [
        {
          "output_type": "display_data",
          "data": {
            "text/plain": [
              "<IPython.core.display.Javascript object>"
            ],
            "application/javascript": [
              "\n",
              "    async function download(id, filename, size) {\n",
              "      if (!google.colab.kernel.accessAllowed) {\n",
              "        return;\n",
              "      }\n",
              "      const div = document.createElement('div');\n",
              "      const label = document.createElement('label');\n",
              "      label.textContent = `Downloading \"${filename}\": `;\n",
              "      div.appendChild(label);\n",
              "      const progress = document.createElement('progress');\n",
              "      progress.max = size;\n",
              "      div.appendChild(progress);\n",
              "      document.body.appendChild(div);\n",
              "\n",
              "      const buffers = [];\n",
              "      let downloaded = 0;\n",
              "\n",
              "      const channel = await google.colab.kernel.comms.open(id);\n",
              "      // Send a message to notify the kernel that we're ready.\n",
              "      channel.send({})\n",
              "\n",
              "      for await (const message of channel.messages) {\n",
              "        // Send a message to notify the kernel that we're ready.\n",
              "        channel.send({})\n",
              "        if (message.buffers) {\n",
              "          for (const buffer of message.buffers) {\n",
              "            buffers.push(buffer);\n",
              "            downloaded += buffer.byteLength;\n",
              "            progress.value = downloaded;\n",
              "          }\n",
              "        }\n",
              "      }\n",
              "      const blob = new Blob(buffers, {type: 'application/binary'});\n",
              "      const a = document.createElement('a');\n",
              "      a.href = window.URL.createObjectURL(blob);\n",
              "      a.download = filename;\n",
              "      div.appendChild(a);\n",
              "      a.click();\n",
              "      div.remove();\n",
              "    }\n",
              "  "
            ]
          },
          "metadata": {}
        },
        {
          "output_type": "display_data",
          "data": {
            "text/plain": [
              "<IPython.core.display.Javascript object>"
            ],
            "application/javascript": [
              "download(\"download_53a165d0-a574-459c-8658-d3f589dda419\", \"best.pt\", 2927099)"
            ]
          },
          "metadata": {}
        }
      ]
    }
  ]
}